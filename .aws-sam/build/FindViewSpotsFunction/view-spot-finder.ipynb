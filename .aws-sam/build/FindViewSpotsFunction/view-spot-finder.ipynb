{
 "cells": [
  {
   "cell_type": "code",
   "execution_count": 40,
   "metadata": {},
   "outputs": [],
   "source": [
    "import json"
   ]
  },
  {
   "cell_type": "code",
   "execution_count": 41,
   "metadata": {},
   "outputs": [],
   "source": [
    "\n",
    "class Node:\n",
    "    def __init__(self, id, x, y):\n",
    "        self.id = id\n",
    "        self.x = x\n",
    "        self.y = y\n",
    "\n",
    "class Element:\n",
    "    def __init__(self, id, nodes):\n",
    "        self.id = id\n",
    "        self.nodes = nodes\n",
    "class Mesh:\n",
    "    def __init__(self, nodes, elements, values):\n",
    "        self.nodes = nodes\n",
    "        self.elements = elements\n",
    "        self.values = values"
   ]
  },
  {
   "cell_type": "code",
   "execution_count": 46,
   "metadata": {},
   "outputs": [
    {
     "name": "stdout",
     "output_type": "stream",
     "text": [
      "121\n",
      "200\n",
      "200\n",
      "0.4320398994069125\n"
     ]
    }
   ],
   "source": [
    "def read_mesh_file(filename):\n",
    "    with open(filename, 'r') as f:\n",
    "        mesh_data = json.load(f)\n",
    "\n",
    "    nodes = [Node(node['id'], node['x'], node['y']) for node in mesh_data['nodes']]\n",
    "    elements = [Element(elem['id'], elem['nodes']) for elem in mesh_data['elements']]\n",
    "    values = {val['element_id']: val['value'] for val in mesh_data['values']}\n",
    "\n",
    "    mesh = Mesh(nodes, elements, values)\n",
    "    return mesh\n",
    "mesh = read_mesh_file('mesh[1][1][1][1][1][1].json')\n",
    "# mesh = read_mesh_file('mesh_x_sin_cos_10000[82][1][1][1][1][1][1].json')\n",
    "print(len(mesh.nodes))\n",
    "print(len(mesh.elements))\n",
    "print(len(mesh.values))\n",
    "print(mesh.values[1])"
   ]
  },
  {
   "cell_type": "code",
   "execution_count": 49,
   "metadata": {},
   "outputs": [
    {
     "name": "stdout",
     "output_type": "stream",
     "text": [
      "[<__main__.Element object at 0x7fd50830f7c0>, <__main__.Element object at 0x7fd50830f820>, <__main__.Element object at 0x7fd50830f880>, <__main__.Element object at 0x7fd50830f8e0>, <__main__.Element object at 0x7fd50830f250>, <__main__.Element object at 0x7fd50830ffd0>, <__main__.Element object at 0x7fd5082d9040>]\n"
     ]
    }
   ],
   "source": [
    "# two elements as neighbors if they share at least one node\n",
    "# include elem itself\n",
    "def get_neighbors(mesh, elem):\n",
    "\n",
    "    neighbor = []\n",
    "\n",
    "    for other_elem in mesh.elements:\n",
    "        shared_nodes = set(elem.nodes).intersection(set(other_elem.nodes))\n",
    "        if len(shared_nodes) > 0:\n",
    "            neighbor.append(other_elem)\n",
    "\n",
    "    return neighbor\n",
    "\n",
    "neighbors = get_neighbors(mesh, mesh.elements[0])\n",
    "print(neighbors)"
   ]
  },
  {
   "cell_type": "code",
   "execution_count": 44,
   "metadata": {},
   "outputs": [
    {
     "ename": "KeyboardInterrupt",
     "evalue": "",
     "output_type": "error",
     "traceback": [
      "\u001b[0;31m---------------------------------------------------------------------------\u001b[0m",
      "\u001b[0;31mKeyboardInterrupt\u001b[0m                         Traceback (most recent call last)",
      "\u001b[1;32m/Users/dupeiwen123/Documents/View spot finder/view-spot-finder.ipynb Cell 5\u001b[0m in \u001b[0;36m<cell line: 22>\u001b[0;34m()\u001b[0m\n\u001b[1;32m     <a href='vscode-notebook-cell:/Users/dupeiwen123/Documents/View%20spot%20finder/view-spot-finder.ipynb#W4sZmlsZQ%3D%3D?line=19'>20</a>\u001b[0m     \u001b[39m# Return the first N view spots\u001b[39;00m\n\u001b[1;32m     <a href='vscode-notebook-cell:/Users/dupeiwen123/Documents/View%20spot%20finder/view-spot-finder.ipynb#W4sZmlsZQ%3D%3D?line=20'>21</a>\u001b[0m     \u001b[39mreturn\u001b[39;00m view_spots[:N]\n\u001b[0;32m---> <a href='vscode-notebook-cell:/Users/dupeiwen123/Documents/View%20spot%20finder/view-spot-finder.ipynb#W4sZmlsZQ%3D%3D?line=21'>22</a>\u001b[0m find_view_spots(mesh,\u001b[39m5\u001b[39;49m)\n",
      "\u001b[1;32m/Users/dupeiwen123/Documents/View spot finder/view-spot-finder.ipynb Cell 5\u001b[0m in \u001b[0;36mfind_view_spots\u001b[0;34m(mesh, N)\u001b[0m\n\u001b[1;32m      <a href='vscode-notebook-cell:/Users/dupeiwen123/Documents/View%20spot%20finder/view-spot-finder.ipynb#W4sZmlsZQ%3D%3D?line=3'>4</a>\u001b[0m \u001b[39mfor\u001b[39;00m elem \u001b[39min\u001b[39;00m mesh\u001b[39m.\u001b[39melements:\n\u001b[1;32m      <a href='vscode-notebook-cell:/Users/dupeiwen123/Documents/View%20spot%20finder/view-spot-finder.ipynb#W4sZmlsZQ%3D%3D?line=4'>5</a>\u001b[0m \n\u001b[1;32m      <a href='vscode-notebook-cell:/Users/dupeiwen123/Documents/View%20spot%20finder/view-spot-finder.ipynb#W4sZmlsZQ%3D%3D?line=5'>6</a>\u001b[0m     \u001b[39m# Check if the element is a local maximum\u001b[39;00m\n\u001b[1;32m      <a href='vscode-notebook-cell:/Users/dupeiwen123/Documents/View%20spot%20finder/view-spot-finder.ipynb#W4sZmlsZQ%3D%3D?line=6'>7</a>\u001b[0m     is_local_max \u001b[39m=\u001b[39m \u001b[39mTrue\u001b[39;00m\n\u001b[0;32m----> <a href='vscode-notebook-cell:/Users/dupeiwen123/Documents/View%20spot%20finder/view-spot-finder.ipynb#W4sZmlsZQ%3D%3D?line=7'>8</a>\u001b[0m     \u001b[39mfor\u001b[39;00m neighbor \u001b[39min\u001b[39;00m get_neighbors(mesh, elem):\n\u001b[1;32m      <a href='vscode-notebook-cell:/Users/dupeiwen123/Documents/View%20spot%20finder/view-spot-finder.ipynb#W4sZmlsZQ%3D%3D?line=8'>9</a>\u001b[0m         \u001b[39mif\u001b[39;00m mesh\u001b[39m.\u001b[39mvalues[neighbor\u001b[39m.\u001b[39mid]  \u001b[39m>\u001b[39m mesh\u001b[39m.\u001b[39mvalues[elem\u001b[39m.\u001b[39mid]:\n\u001b[1;32m     <a href='vscode-notebook-cell:/Users/dupeiwen123/Documents/View%20spot%20finder/view-spot-finder.ipynb#W4sZmlsZQ%3D%3D?line=9'>10</a>\u001b[0m             is_local_max \u001b[39m=\u001b[39m \u001b[39mFalse\u001b[39;00m\n",
      "\u001b[1;32m/Users/dupeiwen123/Documents/View spot finder/view-spot-finder.ipynb Cell 5\u001b[0m in \u001b[0;36mget_neighbors\u001b[0;34m(mesh, elem)\u001b[0m\n\u001b[1;32m      <a href='vscode-notebook-cell:/Users/dupeiwen123/Documents/View%20spot%20finder/view-spot-finder.ipynb#W4sZmlsZQ%3D%3D?line=4'>5</a>\u001b[0m neighborElem \u001b[39m=\u001b[39m []\n\u001b[1;32m      <a href='vscode-notebook-cell:/Users/dupeiwen123/Documents/View%20spot%20finder/view-spot-finder.ipynb#W4sZmlsZQ%3D%3D?line=6'>7</a>\u001b[0m \u001b[39mfor\u001b[39;00m other_elem \u001b[39min\u001b[39;00m mesh\u001b[39m.\u001b[39melements:\n\u001b[0;32m----> <a href='vscode-notebook-cell:/Users/dupeiwen123/Documents/View%20spot%20finder/view-spot-finder.ipynb#W4sZmlsZQ%3D%3D?line=7'>8</a>\u001b[0m     shared_nodes \u001b[39m=\u001b[39m \u001b[39mset\u001b[39;49m(elem\u001b[39m.\u001b[39;49mnodes)\u001b[39m.\u001b[39mintersection(\u001b[39mset\u001b[39m(other_elem\u001b[39m.\u001b[39mnodes))\n\u001b[1;32m      <a href='vscode-notebook-cell:/Users/dupeiwen123/Documents/View%20spot%20finder/view-spot-finder.ipynb#W4sZmlsZQ%3D%3D?line=8'>9</a>\u001b[0m     \u001b[39mif\u001b[39;00m \u001b[39mlen\u001b[39m(shared_nodes) \u001b[39m>\u001b[39m \u001b[39m0\u001b[39m:\n\u001b[1;32m     <a href='vscode-notebook-cell:/Users/dupeiwen123/Documents/View%20spot%20finder/view-spot-finder.ipynb#W4sZmlsZQ%3D%3D?line=9'>10</a>\u001b[0m         neighborID\u001b[39m.\u001b[39mappend(other_elem\u001b[39m.\u001b[39mid)\n",
      "\u001b[0;31mKeyboardInterrupt\u001b[0m: "
     ]
    }
   ],
   "source": [
    "def find_view_spots(mesh, N):\n",
    "    view_spots = []\n",
    "    # Iterate over all elements in the mesh\n",
    "    for elem in mesh.elements:\n",
    "\n",
    "        # Check if the element is a local maximum\n",
    "        is_local_max = True\n",
    "        for neighbor in get_neighbors(mesh, elem):\n",
    "            if mesh.values[neighbor.id]  > mesh.values[elem.id]:\n",
    "                is_local_max = False\n",
    "                break\n",
    "\n",
    "        # If the element is a local maximum, add it to the list of view spots\n",
    "        if is_local_max:\n",
    "            view_spots.append({'element_id': elem.id, 'value': mesh.values[elem.id]})\n",
    "\n",
    "    # Sort the view spots by height value in descending order\n",
    "    view_spots.sort(key=lambda spot: spot['value'], reverse=True)\n",
    "\n",
    "    # Return the first N view spots\n",
    "    return view_spots[:N]\n",
    "find_view_spots(mesh,5)"
   ]
  }
 ],
 "metadata": {
  "kernelspec": {
   "display_name": "Python 3",
   "language": "python",
   "name": "python3"
  },
  "language_info": {
   "codemirror_mode": {
    "name": "ipython",
    "version": 3
   },
   "file_extension": ".py",
   "mimetype": "text/x-python",
   "name": "python",
   "nbconvert_exporter": "python",
   "pygments_lexer": "ipython3",
   "version": "3.8.10"
  },
  "orig_nbformat": 4,
  "vscode": {
   "interpreter": {
    "hash": "aee8b7b246df8f9039afb4144a1f6fd8d2ca17a180786b69acc140d282b71a49"
   }
  }
 },
 "nbformat": 4,
 "nbformat_minor": 2
}
